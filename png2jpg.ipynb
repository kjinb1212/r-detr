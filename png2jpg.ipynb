{
 "cells": [
  {
   "cell_type": "code",
   "execution_count": 7,
   "metadata": {},
   "outputs": [],
   "source": [
    "from glob import glob\n",
    "import os\n",
    "from PIL import Image\n",
    "import shutil\n",
    "\n",
    "phase = 'train'\n",
    "jpgs = glob(os.path.join('/media/data1/DATA_sar', phase, 'images/*.jpg'))\n",
    "for jpg in jpgs:\n",
    "    id = jpg.split('/')[-1]\n",
    "    shutil.copy(jpg, os.path.join('/media/data1/Sar_datasets', phase, 'images', id))\n",
    "\n",
    "\n",
    "\n",
    "txts = glob(os.path.join('/media/data1/DATA_sar', phase, 'labelTxt/*.txt'))\n",
    "for txt in txts:\n",
    "    id = txt.split('/')[-1]\n",
    "    shutil.copy(txt, os.path.join('/media/data1/Sar_datasets', phase, 'labelTxt', id))\n",
    "\n",
    "pngs = glob(os.path.join('/media/data1/DATA_sar', phase, 'images/*.png'))\n",
    "for png in pngs:\n",
    "    id = png.split('/')[-1][:-4] + '.jpg'\n",
    "    \n",
    "    img = Image.open(png).convert('RGB')\n",
    "    img.save(os.path.join('/media/data1/Sar_datasets', phase, 'images', id))"
   ]
  },
  {
   "cell_type": "code",
   "execution_count": 8,
   "metadata": {},
   "outputs": [],
   "source": [
    "phase = 'test'\n",
    "jpgs = glob(os.path.join('/media/data1/DATA_sar', phase, 'images/*.jpg'))\n",
    "for jpg in jpgs:\n",
    "    id = jpg.split('/')[-1]\n",
    "    shutil.copy(jpg, os.path.join('/media/data1/Sar_datasets', phase, 'images', id))\n",
    "\n",
    "\n",
    "txts = glob(os.path.join('/media/data1/DATA_sar', phase, 'labelTxt/*.txt'))\n",
    "for txt in txts:\n",
    "    id = txt.split('/')[-1]\n",
    "    shutil.copy(txt, os.path.join('/media/data1/Sar_datasets', phase, 'labelTxt', id))\n",
    "\n",
    "pngs = glob(os.path.join('/media/data1/DATA_sar', phase, 'images/*.png'))\n",
    "for png in pngs:\n",
    "    id = png.split('/')[-1][:-4] + '.jpg'\n",
    "    \n",
    "    img = Image.open(png).convert('RGB')\n",
    "    img.save(os.path.join('/media/data1/Sar_datasets', phase, 'images', id))"
   ]
  },
  {
   "cell_type": "code",
   "execution_count": 9,
   "metadata": {},
   "outputs": [],
   "source": [
    "from glob import glob\n",
    "phase = 'train'\n",
    "txts = glob(os.path.join('/media/data1/Sar_datasets', phase, 'labelTxt/L*.txt'))\n",
    "for txt in txts:\n",
    "    with open(txt, 'r') as f:\n",
    "        s = f.readlines()\n",
    "        new_s = []\n",
    "        for si in s:            \n",
    "            if 'imagesource' in si:\n",
    "                continue\n",
    "            if 'gsd' in si:\n",
    "                continue\n",
    "            bbox_info = si.split()\n",
    "            bbox_info[8] = 'ship'\n",
    "            new_s.append(' '.join(bbox_info))\n",
    "    with open(txt, 'w') as f:\n",
    "        for s in new_s:\n",
    "            f.write(s+'\\n')\n",
    "\n",
    "\n",
    "\n",
    "phase = 'test'\n",
    "txts = glob(os.path.join('/media/data1/Sar_datasets', phase, 'labelTxt/L*.txt'))\n",
    "for txt in txts:\n",
    "    with open(txt, 'r') as f:\n",
    "        s = f.readlines()\n",
    "        new_s = []\n",
    "        for si in s:            \n",
    "            if 'imagesource' in si:\n",
    "                continue\n",
    "            if 'gsd' in si:\n",
    "                continue\n",
    "            bbox_info = si.split()\n",
    "            bbox_info[8] = 'ship'\n",
    "            new_s.append(' '.join(bbox_info))\n",
    "    with open(txt, 'w') as f:\n",
    "        for s in new_s:\n",
    "            f.write(s+'\\n')"
   ]
  },
  {
   "cell_type": "code",
   "execution_count": 2,
   "metadata": {},
   "outputs": [
    {
     "name": "stderr",
     "output_type": "stream",
     "text": [
      "\u001b[34m\u001b[1mwandb\u001b[0m: Logging into wandb.ai. (Learn how to deploy a W&B server locally: https://wandb.me/wandb-server)\n",
      "\u001b[34m\u001b[1mwandb\u001b[0m: You can find your API key in your browser here: https://wandb.ai/authorize\n",
      "\u001b[34m\u001b[1mwandb\u001b[0m: Paste an API key from your profile and hit enter, or press ctrl+c to quit:\u001b[34m\u001b[1mwandb\u001b[0m: Appending key for api.wandb.ai to your netrc file: /home/jinbeom/.netrc\n"
     ]
    },
    {
     "data": {
      "text/plain": [
       "True"
      ]
     },
     "execution_count": 2,
     "metadata": {},
     "output_type": "execute_result"
    }
   ],
   "source": [
    "import wandb\n",
    "wandb.login()"
   ]
  }
 ],
 "metadata": {
  "kernelspec": {
   "display_name": "Python 3.7.13 ('rdetr')",
   "language": "python",
   "name": "python3"
  },
  "language_info": {
   "codemirror_mode": {
    "name": "ipython",
    "version": 3
   },
   "file_extension": ".py",
   "mimetype": "text/x-python",
   "name": "python",
   "nbconvert_exporter": "python",
   "pygments_lexer": "ipython3",
   "version": "3.7.13"
  },
  "orig_nbformat": 4,
  "vscode": {
   "interpreter": {
    "hash": "2887b1955f4e3662e3a608b94f845dab1cf12b4a47fb41505461f8f4692ebde1"
   }
  }
 },
 "nbformat": 4,
 "nbformat_minor": 2
}
