{
 "cells": [
  {
   "cell_type": "code",
   "execution_count": 6,
   "metadata": {},
   "outputs": [
    {
     "name": "stdout",
     "output_type": "stream",
     "text": [
      "1411\n",
      "458\n",
      "1869\n",
      "dict_keys(['tennis-court', 'bridge', 'ship', 'roundabout', 'small-vehicle', 'swimming-pool', 'storage-tank', 'large-vehicle', 'basketball-court', 'harbor', 'plane', 'container-crane', 'ground-track-field', 'baseball-diamond', 'soccer-ball-field', 'helicopter'])\n",
      "tennis-court 3188\n",
      "bridge 2541\n",
      "ship 43738\n",
      "roundabout 622\n",
      "small-vehicle 169838\n",
      "swimming-pool 2757\n",
      "storage-tank 8286\n",
      "large-vehicle 27357\n",
      "basketball-court 672\n",
      "harbor 8118\n",
      "plane 10622\n",
      "container-crane 156\n",
      "ground-track-field 476\n",
      "baseball-diamond 625\n",
      "soccer-ball-field 487\n",
      "helicopter 713\n"
     ]
    }
   ],
   "source": [
    "from glob import glob\n",
    "import os.path as osp\n",
    "cls = {}\n",
    "train_ann_files = glob('/media/data1/DOTA_v1.5/train/labelTxt/*.txt')\n",
    "print(len(train_ann_files))\n",
    "val_ann_files = glob('/media/data1/DOTA_v1.5/val/labelTxt/*.txt')\n",
    "print(len(val_ann_files))\n",
    "ann_files = train_ann_files + val_ann_files\n",
    "print(len(ann_files))\n",
    "for ann_file in ann_files:\n",
    "    img_id = osp.split(ann_file)[1][:-4]\n",
    "    with open(ann_file, 'r') as f:\n",
    "        s = f.readlines()\n",
    "        for si in s[2:]:\n",
    "            bbox_info = si.split()\n",
    "            cls_name = bbox_info[8]\n",
    "            if cls_name not in cls.keys():\n",
    "                cls[cls_name] = [img_id]\n",
    "            else:\n",
    "                cls[cls_name].append(img_id)\n",
    "print(cls.keys())\n",
    "for k in cls.keys():\n",
    "    print(k, len(cls[k]))"
   ]
  }
 ],
 "metadata": {
  "kernelspec": {
   "display_name": "Python 3.7.13 ('rdetr')",
   "language": "python",
   "name": "python3"
  },
  "language_info": {
   "codemirror_mode": {
    "name": "ipython",
    "version": 3
   },
   "file_extension": ".py",
   "mimetype": "text/x-python",
   "name": "python",
   "nbconvert_exporter": "python",
   "pygments_lexer": "ipython3",
   "version": "3.7.13"
  },
  "orig_nbformat": 4,
  "vscode": {
   "interpreter": {
    "hash": "2887b1955f4e3662e3a608b94f845dab1cf12b4a47fb41505461f8f4692ebde1"
   }
  }
 },
 "nbformat": 4,
 "nbformat_minor": 2
}
